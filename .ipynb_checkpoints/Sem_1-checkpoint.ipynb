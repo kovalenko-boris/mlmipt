{
 "cells": [
  {
   "cell_type": "markdown",
   "metadata": {},
   "source": [
    "<h1 align=\"center\"> Машинное обучение / ФИВТ МФТИ 2016 </h3> \n",
    "\n",
    "<h2 align=\"center\"> Семинар 1 </h3> "
   ]
  },
  {
   "cell_type": "markdown",
   "metadata": {},
   "source": [
    "План семинара:\n",
    "\n",
    "1. Знакомство\n",
    "2. Описание курса\n",
    "3. Примеры задач машинного обучения\n",
    "4. Python и другие prerequisites\n",
    "\n",
    "5. Переобучение и обобщающая способность, пример\n",
    "6. Кросс-валидация, пример"
   ]
  },
  {
   "cell_type": "markdown",
   "metadata": {},
   "source": [
    "---------\n",
    "<h3 align=\"left\"> 1. Знакомство </h3> "
   ]
  },
  {
   "cell_type": "markdown",
   "metadata": {},
   "source": [
    "Коваленко Борис Борисович [LinkedIn:](https://ru.linkedin.com/in/boriskovalenko) [почта:](fortyq@gmail.com)\n",
    "\n",
    "\n",
    "ФКН НИУ ВШЭ (2015, магистерская программа - Науки о данных)\n",
    "\n",
    "С 2015 в Rambler&Co, отдел машинного обучения, машинное обучение в интернет рекламе"
   ]
  },
  {
   "cell_type": "markdown",
   "metadata": {},
   "source": [
    "---------\n",
    "<h3 align=\"left\"> 2. Описание курса </h3> "
   ]
  },
  {
   "cell_type": "markdown",
   "metadata": {},
   "source": [
    "15 лекций, лектор - Анастасия Зухба\n",
    "\n",
    "Вики - http://www.machinelearning.ru/wiki/index.php?title=MIPT_ML_2016_Spring\n",
    "\n",
    "Piazza - https://piazza.com/class/ikcgq2k0xalss\n",
    "\n",
    "Анонимные отзывы: https://docs.google.com/forms/d/1U60EFqZ7j-Eib_-tB3lZLWxlZElui_1Qj_E_yH7hFWE/viewform\n",
    "\n",
    "15 < семинаров\n",
    "\n",
    "* ~ 4 Домашних задания Kaggle in Class:\n",
    "    \n",
    "  * K - nearest neighbors / Image dataset\n",
    "  * Linear models \n",
    "  * Random Forest\n",
    "  * $\\forall$ algorithm\n",
    "  \n",
    "* ~ 2 Теоретических задания\n",
    "* ~ 2 Проверочных работы / Теста\n",
    "\n",
    "\n",
    "Основные задачи курса научить:\n",
    "\n",
    "1. Видеть задачу машинного обучения \n",
    "2. Решать поставленную задачу машинного обучения\n",
    "3. Подготовить к дальнейшим курсам по машинному обучение и ИИ"
   ]
  },
  {
   "cell_type": "markdown",
   "metadata": {},
   "source": [
    "---------\n",
    "<h3 align=\"left\"> 3. Примеры задач машинного обучения </h3> "
   ]
  },
  {
   "cell_type": "markdown",
   "metadata": {},
   "source": [
    "Примеры Supervised Learning (Обучение с учителем)\n",
    "\n",
    "1. Кредитный скоринг\n",
    "    \n",
    "    Объект - заявка на выдачу кредита\n",
    "    Классы - нет или да (0 или 1)\n",
    "    Примеры признаков:\n",
    "        бинарные (наличие телефона, пол, наличие акаунта в соц сетях и т.д)\n",
    "        номинальные (профессия, место проживания, состав групп в соц сетях и т.д.)\n",
    "        порядковые (образование, должность и т.д.)\n",
    "        количественные (доход, возраст, количество друзей в соц сетях и т.д.)\n",
    "        \n",
    "2. Прогнозирование стоимости недвижимости\n",
    "    \n",
    "    Объект - квартира в Москве\n",
    "    Примеры признаков:\n",
    "        бинарные (наличие балкона, лифта и т.д.)\n",
    "        номинальные (район города, тип дома и т.д.)\n",
    "        количественные (число комнат, жилая площадь и т.д.)\n",
    "        \n",
    "        \n",
    "Примеры Unsupervised Learning (Обучение без учителя)\n",
    "\n",
    "1. [Кластеризация большого объема новостных документов](https://www.cs.toronto.edu/~hinton/science.pdf)\n",
    "    \n",
    "    Объект - документ (новостная статья)\n",
    "    Пример признаков:\n",
    "        Векторные представления слов (Words embeddings)\n",
    "        \n",
    "    <img src=\"1.png\" height=\"600\" width=\"600\">\n",
    "\n",
    "\n",
    "Примеры Semi-supervised Learning (Частичное обучение)\n",
    "\n",
    "1. Классификация веб страниц\n",
    "\n",
    "    Объект - веб страница \n",
    "    Пример признаков:\n",
    "        Количество тегов на странице\n",
    "        Векторные представления слов текста\n",
    "        и т.д."
   ]
  },
  {
   "cell_type": "markdown",
   "metadata": {},
   "source": [
    "---------\n",
    "<h3 align=\"left\"> 4. Python и другие prerequisites / Python based Data Scientist </h3> "
   ]
  },
  {
   "cell_type": "markdown",
   "metadata": {},
   "source": [
    "<b>Data Scientist toolbox:</b>\n",
    "\n",
    "1. Python <img src=\"Python_logo_and_wordmark.svg.png\" height=\"200\" width=\"200\">\n",
    "\n",
    "2. Numpy + SciPy <img src=\"numpy.jpg\" height=\"200\" width=\"200\">\n",
    "\n",
    "3. Pandas <img src=\"pandas.png\" height=\"300\" width=\"300\">\n",
    "\n",
    "4. Scikit-Learn <img src=\"scikit.png\" height=\"200\" width=\"200\">\n",
    "\n",
    "5. Jupiter Notebook <img src=\"jupyter-logo.png\" height=\"200\" width=\"200\">\n",
    "\n",
    "<b>Big Data Scientist toolbox:</b>\n",
    "\n",
    "6. Hadoop <img src=\"Hadoop_logo.svg\" height=\"200\" width=\"200\">\n",
    "\n",
    "7. Apache Spark <img src=\"spark-logo-trademark.png\" height=\"200\" width=\"200\">"
   ]
  },
  {
   "cell_type": "markdown",
   "metadata": {},
   "source": [
    "---------\n",
    "<h3 align=\"left\"> Python warmup </h3> "
   ]
  },
  {
   "cell_type": "code",
   "execution_count": 1,
   "metadata": {
    "collapsed": false
   },
   "outputs": [
    {
     "name": "stdout",
     "output_type": "stream",
     "text": [
      "[3, 1, 2] 2\n",
      "2\n",
      "[3, 1, 'foo']\n",
      "[3, 1, 'foo', 'bar']\n",
      "bar [3, 1, 'foo']\n"
     ]
    }
   ],
   "source": [
    "xs = [3, 1, 2]   # Create a list\n",
    "print xs, xs[2]  # Prints \"[3, 1, 2] 2\"\n",
    "print xs[-1]     # Negative indices count from the end of the list; prints \"2\"\n",
    "xs[2] = 'foo'    # Lists can contain elements of different types\n",
    "print xs         # Prints \"[3, 1, 'foo']\"\n",
    "xs.append('bar') # Add a new element to the end of the list\n",
    "print xs         # Prints \"[3, 1, 'foo', 'bar']\"\n",
    "x = xs.pop()     # Remove and return the last element of the list\n",
    "print x, xs      # Prints \"bar [3, 1, 'foo']\""
   ]
  },
  {
   "cell_type": "code",
   "execution_count": 2,
   "metadata": {
    "collapsed": false
   },
   "outputs": [
    {
     "name": "stdout",
     "output_type": "stream",
     "text": [
      "[0, 1, 2, 3, 4]\n",
      "[2, 3]\n",
      "[2, 3, 4]\n",
      "[0, 1]\n",
      "[0, 1, 2, 3, 4]\n",
      "[0, 1, 2, 3]\n",
      "[0, 1, 8, 9, 4]\n"
     ]
    }
   ],
   "source": [
    "nums = range(5)    # range is a built-in function that creates a list of integers\n",
    "print nums         # Prints \"[0, 1, 2, 3, 4]\"\n",
    "print nums[2:4]    # Get a slice from index 2 to 4 (exclusive); prints \"[2, 3]\"\n",
    "print nums[2:]     # Get a slice from index 2 to the end; prints \"[2, 3, 4]\"\n",
    "print nums[:2]     # Get a slice from the start to index 2 (exclusive); prints \"[0, 1]\"\n",
    "print nums[:]      # Get a slice of the whole list; prints [\"0, 1, 2, 3, 4]\"\n",
    "print nums[:-1]    # Slice indices can be negative; prints [\"0, 1, 2, 3]\"\n",
    "nums[2:4] = [8, 9] # Assign a new sublist to a slice\n",
    "print nums         # Prints \"[0, 1, 8, 9, 4]\""
   ]
  },
  {
   "cell_type": "code",
   "execution_count": 3,
   "metadata": {
    "collapsed": false
   },
   "outputs": [
    {
     "name": "stdout",
     "output_type": "stream",
     "text": [
      "cat\n",
      "dog\n",
      "monkey\n"
     ]
    }
   ],
   "source": [
    "animals = ['cat', 'dog', 'monkey']\n",
    "for animal in animals:\n",
    "    print animal\n",
    "# Prints \"cat\", \"dog\", \"monkey\", each on its own line."
   ]
  },
  {
   "cell_type": "code",
   "execution_count": 4,
   "metadata": {
    "collapsed": false
   },
   "outputs": [
    {
     "name": "stdout",
     "output_type": "stream",
     "text": [
      "cute\n",
      "True\n",
      "wet\n",
      "N/A\n",
      "wet\n",
      "N/A\n"
     ]
    }
   ],
   "source": [
    "d = {'cat': 'cute', 'dog': 'furry'}  # Create a new dictionary with some data\n",
    "print d['cat']       # Get an entry from a dictionary; prints \"cute\"\n",
    "print 'cat' in d     # Check if a dictionary has a given key; prints \"True\"\n",
    "d['fish'] = 'wet'    # Set an entry in a dictionary\n",
    "print d['fish']      # Prints \"wet\"\n",
    "# print d['monkey']  # KeyError: 'monkey' not a key of d\n",
    "print d.get('monkey', 'N/A')  # Get an element with a default; prints \"N/A\"\n",
    "print d.get('fish', 'N/A')    # Get an element with a default; prints \"wet\"\n",
    "del d['fish']        # Remove an element from a dictionary\n",
    "print d.get('fish', 'N/A') # \"fish\" is no longer a key; prints \"N/A\""
   ]
  },
  {
   "cell_type": "code",
   "execution_count": 5,
   "metadata": {
    "collapsed": false
   },
   "outputs": [
    {
     "name": "stdout",
     "output_type": "stream",
     "text": [
      "A person has 2 legs\n",
      "A spider has 8 legs\n",
      "A cat has 4 legs\n"
     ]
    }
   ],
   "source": [
    "d = {'person': 2, 'cat': 4, 'spider': 8}\n",
    "for animal in d:\n",
    "    legs = d[animal]\n",
    "    print 'A %s has %d legs' % (animal, legs)\n",
    "# Prints \"A person has 2 legs\", \"A spider has 8 legs\", \"A cat has 4 legs\""
   ]
  },
  {
   "cell_type": "code",
   "execution_count": 6,
   "metadata": {
    "collapsed": false
   },
   "outputs": [
    {
     "name": "stdout",
     "output_type": "stream",
     "text": [
      "<type 'numpy.ndarray'>\n",
      "(3,)\n",
      "1 2 3\n",
      "[5 2 3]\n",
      "(2, 3)\n",
      "1 2 4\n"
     ]
    }
   ],
   "source": [
    "import numpy as np\n",
    "\n",
    "a = np.array([1, 2, 3])  # Create a rank 1 array\n",
    "print type(a)            # Prints \"<type 'numpy.ndarray'>\"\n",
    "print a.shape            # Prints \"(3,)\"\n",
    "print a[0], a[1], a[2]   # Prints \"1 2 3\"\n",
    "a[0] = 5                 # Change an element of the array\n",
    "print a                  # Prints \"[5, 2, 3]\"\n",
    "\n",
    "b = np.array([[1,2,3],[4,5,6]])   # Create a rank 2 array\n",
    "print b.shape                     # Prints \"(2, 3)\"\n",
    "print b[0, 0], b[0, 1], b[1, 0]   # Prints \"1 2 4\""
   ]
  },
  {
   "cell_type": "code",
   "execution_count": 7,
   "metadata": {
    "collapsed": false
   },
   "outputs": [
    {
     "name": "stdout",
     "output_type": "stream",
     "text": [
      "[[False False]\n",
      " [ True  True]\n",
      " [ True  True]]\n",
      "[3 4 5 6]\n",
      "[3 4 5 6]\n"
     ]
    }
   ],
   "source": [
    "a = np.array([[1,2], [3, 4], [5, 6]])\n",
    "\n",
    "bool_idx = (a > 2)  # Find the elements of a that are bigger than 2;\n",
    "                    # this returns a numpy array of Booleans of the same\n",
    "                    # shape as a, where each slot of bool_idx tells\n",
    "                    # whether that element of a is > 2.\n",
    "\n",
    "print bool_idx      # Prints \"[[False False]\n",
    "                    #          [ True  True]\n",
    "                    #          [ True  True]]\"\n",
    "\n",
    "# We use boolean array indexing to construct a rank 1 array\n",
    "# consisting of the elements of a corresponding to the True values\n",
    "# of bool_idx\n",
    "print a[bool_idx]  # Prints \"[3 4 5 6]\"\n",
    "\n",
    "# We can do all of the above in a single concise statement:\n",
    "print a[a > 2]     # Prints \"[3 4 5 6]\""
   ]
  },
  {
   "cell_type": "markdown",
   "metadata": {},
   "source": [
    "<b>[Python tutorial](http://cs231n.github.io/python-numpy-tutorial/#python-functions)</b>"
   ]
  },
  {
   "cell_type": "code",
   "execution_count": 8,
   "metadata": {
    "collapsed": false
   },
   "outputs": [
    {
     "data": {
      "image/png": "[encoded data removed]",
      "text/plain": [
       "<matplotlib.figure.Figure at 0x10bf98150>"
      ]
     },
     "metadata": {},
     "output_type": "display_data"
    }
   ],
   "source": [
    "import matplotlib.pyplot as plt\n",
    "import matplotlib.mlab as mlab\n",
    "plt.style.use('ggplot')\n",
    "%matplotlib inline\n",
    "\n",
    "# example data\n",
    "mu = 100  # mean of distribution\n",
    "sigma = 15  # standard deviation of distribution\n",
    "x = mu + sigma * np.random.randn(10000)\n",
    "\n",
    "num_bins = 50\n",
    "# the histogram of the data\n",
    "n, bins, patches = plt.hist(x, num_bins, normed=1, facecolor='green', alpha=0.5)\n",
    "# add a 'best fit' line\n",
    "y = mlab.normpdf(bins, mu, sigma)\n",
    "plt.plot(bins, y, 'r--')\n",
    "plt.xlabel('Smarts')\n",
    "plt.ylabel('Probability')\n",
    "plt.title(r'Histogram of IQ: $\\mu=100$, $\\sigma=15$')\n",
    "\n",
    "# Tweak spacing to prevent clipping of ylabel\n",
    "plt.subplots_adjust(left=0.15)"
   ]
  },
  {
   "cell_type": "markdown",
   "metadata": {},
   "source": [
    "---------\n",
    "<h3 align=\"left\"> 5. Переобучение и обобщающая способность </h3> "
   ]
  },
  {
   "cell_type": "code",
   "execution_count": 9,
   "metadata": {
    "collapsed": true
   },
   "outputs": [],
   "source": [
    "from sklearn.pipeline import Pipeline\n",
    "from sklearn.preprocessing import PolynomialFeatures\n",
    "from sklearn.linear_model import LinearRegression\n",
    "from sklearn import cross_validation"
   ]
  },
  {
   "cell_type": "code",
   "execution_count": 10,
   "metadata": {
    "collapsed": true
   },
   "outputs": [],
   "source": [
    "np.random.seed(0)\n",
    "n_samples = 30\n",
    "degrees = [1, 4, 15]"
   ]
  },
  {
   "cell_type": "code",
   "execution_count": 11,
   "metadata": {
    "collapsed": true
   },
   "outputs": [],
   "source": [
    "true_fun = lambda X: np.cos(1.5 * np.pi * X)\n",
    "X = np.sort(np.random.rand(n_samples))\n",
    "y = true_fun(X) + np.random.randn(n_samples) * 0.1"
   ]
  },
  {
   "cell_type": "code",
   "execution_count": 12,
   "metadata": {
    "collapsed": false,
    "scrolled": true
   },
   "outputs": [
    {
     "data": {
      "image/png": "[encoded data removed]",
      "text/plain": [
       "<matplotlib.figure.Figure at 0x1148e1fd0>"
      ]
     },
     "metadata": {},
     "output_type": "display_data"
    }
   ],
   "source": [
    "plt.figure(figsize=(14, 5))\n",
    "for i in range(len(degrees)):\n",
    "    ax = plt.subplot(1, len(degrees), i + 1)\n",
    "    plt.setp(ax, xticks=(), yticks=())\n",
    "\n",
    "    polynomial_features = PolynomialFeatures(degree=degrees[i],\n",
    "                                             include_bias=False)\n",
    "    linear_regression = LinearRegression()\n",
    "    pipeline = Pipeline([(\"polynomial_features\", polynomial_features),\n",
    "                         (\"linear_regression\", linear_regression)])\n",
    "    pipeline.fit(X[:, np.newaxis], y)\n",
    "\n",
    "    # Evaluate the models using crossvalidation\n",
    "    scores = cross_validation.cross_val_score(pipeline,\n",
    "        X[:, np.newaxis], y, scoring=\"mean_squared_error\", cv=10)\n",
    "\n",
    "    X_test = np.linspace(0, 1, 100)\n",
    "    plt.plot(X_test, pipeline.predict(X_test[:, np.newaxis]), label=\"Model\")\n",
    "    plt.plot(X_test, true_fun(X_test), label=\"True function\")\n",
    "    plt.scatter(X, y, label=\"Samples\")\n",
    "    plt.xlabel(\"x\")\n",
    "    plt.ylabel(\"y\")\n",
    "    plt.xlim((0, 1))\n",
    "    plt.ylim((-2, 2))\n",
    "    plt.legend(loc=\"best\")\n",
    "    plt.title(\"Degree {}\\nMSE = {:.2e}(+/- {:.2e})\".format(\n",
    "        degrees[i], -scores.mean(), scores.std()))\n",
    "plt.show()"
   ]
  },
  {
   "cell_type": "markdown",
   "metadata": {},
   "source": [
    "<h3 align=\"center\"> [Bias-variance tradeoff](https://en.wikipedia.org/wiki/Bias%E2%80%93variance_tradeoff#Bias.E2.80.93variance_decomposition_of_squared_error) </h3> "
   ]
  },
  {
   "cell_type": "markdown",
   "metadata": {},
   "source": [
    "---------\n",
    "<h3 align=\"left\"> 6. Кросс-валидация </h3> "
   ]
  },
  {
   "cell_type": "markdown",
   "metadata": {},
   "source": [
    "<img src=\"sensors-12-12489f7-1024.png\" height=\"700\" width=\"700\">"
   ]
  },
  {
   "cell_type": "code",
   "execution_count": 13,
   "metadata": {
    "collapsed": false
   },
   "outputs": [
    {
     "data": {
      "image/png": "[encoded data removed]",
      "text/plain": [
       "<matplotlib.figure.Figure at 0x114e61910>"
      ]
     },
     "metadata": {},
     "output_type": "display_data"
    }
   ],
   "source": [
    "from sklearn.datasets import load_digits\n",
    "from sklearn.svm import SVC\n",
    "from sklearn.learning_curve import validation_curve\n",
    "\n",
    "digits = load_digits()\n",
    "X, y = digits.data, digits.target\n",
    "\n",
    "param_range = np.logspace(-6, -1, 5)\n",
    "train_scores, test_scores = validation_curve(\n",
    "    SVC(), X, y, param_name=\"gamma\", param_range=param_range,\n",
    "    cv=10, scoring=\"accuracy\", n_jobs=1)\n",
    "train_scores_mean = np.mean(train_scores, axis=1)\n",
    "train_scores_std = np.std(train_scores, axis=1)\n",
    "test_scores_mean = np.mean(test_scores, axis=1)\n",
    "test_scores_std = np.std(test_scores, axis=1)\n",
    "\n",
    "plt.title(\"Validation Curve with SVM\")\n",
    "plt.xlabel(\"$\\gamma$\")\n",
    "plt.ylabel(\"Score\")\n",
    "plt.ylim(0.0, 1.1)\n",
    "plt.semilogx(param_range, train_scores_mean, label=\"Training score\", color=\"r\")\n",
    "plt.fill_between(param_range, train_scores_mean - train_scores_std,\n",
    "                 train_scores_mean + train_scores_std, alpha=0.2, color=\"r\")\n",
    "plt.semilogx(param_range, test_scores_mean, label=\"Cross-validation score\",\n",
    "             color=\"g\")\n",
    "plt.fill_between(param_range, test_scores_mean - test_scores_std,\n",
    "                 test_scores_mean + test_scores_std, alpha=0.2, color=\"g\")\n",
    "plt.legend(loc=\"best\")\n",
    "plt.show()"
   ]
  },
  {
   "cell_type": "markdown",
   "metadata": {},
   "source": [
    "---------\n",
    "<h3 align=\"left\"> Что дальше? </h3> "
   ]
  },
  {
   "cell_type": "markdown",
   "metadata": {},
   "source": [
    "1. Туториалы по Python + Code Academy или Coursera\n",
    "2. Лекция 2 про Метрические алгоритмы (19 февраля)\n",
    "3. Ждите 1 домашнего задания"
   ]
  },
  {
   "cell_type": "markdown",
   "metadata": {},
   "source": [
    "<h3 align=\"left\"> Вопросы? </h3> "
   ]
  },
  {
   "cell_type": "code",
   "execution_count": null,
   "metadata": {
    "collapsed": true
   },
   "outputs": [],
   "source": []
  },
  {
   "cell_type": "code",
   "execution_count": null,
   "metadata": {
    "collapsed": true
   },
   "outputs": [],
   "source": []
  },
  {
   "cell_type": "code",
   "execution_count": null,
   "metadata": {
    "collapsed": true
   },
   "outputs": [],
   "source": []
  }
 ],
 "metadata": {
  "kernelspec": {
   "display_name": "Python 2",
   "language": "python",
   "name": "python2"
  },
  "language_info": {
   "codemirror_mode": {
    "name": "ipython",
    "version": 2
   },
   "file_extension": ".py",
   "mimetype": "text/x-python",
   "name": "python",
   "nbconvert_exporter": "python",
   "pygments_lexer": "ipython2",
   "version": "2.7.11"
  }
 },
 "nbformat": 4,
 "nbformat_minor": 0
}
