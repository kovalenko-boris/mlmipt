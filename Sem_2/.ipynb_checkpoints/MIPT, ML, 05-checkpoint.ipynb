{
 "cells": [
  {
   "cell_type": "markdown",
   "metadata": {},
   "source": [
    "# Outline:"
   ]
  },
  {
   "cell_type": "raw",
   "metadata": {},
   "source": [
    "* Feature Selection\n",
    "* Discretization\n",
    "* Conjuction\n",
    "* Classification"
   ]
  },
  {
   "cell_type": "markdown",
   "metadata": {},
   "source": [
    "### Imports"
   ]
  },
  {
   "cell_type": "code",
   "execution_count": 21,
   "metadata": {
    "collapsed": false
   },
   "outputs": [],
   "source": [
    "from copy import deepcopy\n",
    "from cStringIO import StringIO\n",
    "from random import seed, shuffle\n",
    "import math\n",
    "\n",
    "from IPython.display import Image\n",
    "from matplotlib import pylab\n",
    "import numpy as np\n",
    "import pandas as pd\n",
    "\n",
    "from sklearn.neighbors import KNeighborsClassifier\n",
    "from sklearn.metrics import accuracy_score"
   ]
  },
  {
   "cell_type": "code",
   "execution_count": 22,
   "metadata": {
    "collapsed": false
   },
   "outputs": [],
   "source": [
    "import sys\n",
    "sys.path.append('../kaggle/mipt_ml/library/')"
   ]
  },
  {
   "cell_type": "code",
   "execution_count": 23,
   "metadata": {
    "collapsed": false
   },
   "outputs": [],
   "source": [
    "from reader import read_dataset"
   ]
  },
  {
   "cell_type": "markdown",
   "metadata": {},
   "source": [
    "### Data"
   ]
  },
  {
   "cell_type": "code",
   "execution_count": 24,
   "metadata": {
    "collapsed": false
   },
   "outputs": [],
   "source": [
    "seed(33)\n",
    "X_train, Y_train, X_test, Y_test = read_dataset('../kaggle/digit_recognizer/train.csv', train_size=500, test_size=500)"
   ]
  },
  {
   "cell_type": "markdown",
   "metadata": {},
   "source": [
    "## Feature Selection"
   ]
  },
  {
   "cell_type": "raw",
   "metadata": {},
   "source": [
    "Simple:\n",
    "* AddOne\n",
    "* DelOne\n",
    "* AddDel\n",
    "\n",
    "Complex:\n",
    "* Group method of data handling (GMDH)\n",
    "* Genetic Algorithm (GA)\n",
    "* Stochastic Local Search (SLS) with adaptation"
   ]
  },
  {
   "cell_type": "markdown",
   "metadata": {},
   "source": [
    "### Playground"
   ]
  },
  {
   "cell_type": "code",
   "execution_count": 5,
   "metadata": {
    "collapsed": false
   },
   "outputs": [
    {
     "name": "stdout",
     "output_type": "stream",
     "text": [
      "CPU times: user 320 ms, sys: 2.08 ms, total: 322 ms\n",
      "Wall time: 330 ms\n"
     ]
    },
    {
     "data": {
      "text/plain": [
       "0.81799999999999995"
      ]
     },
     "execution_count": 5,
     "metadata": {},
     "output_type": "execute_result"
    }
   ],
   "source": [
    "baseline = KNeighborsClassifier(weights='distance')\n",
    "baseline.fit(X_train, Y_train)\n",
    "%time accuracy_score(Y_test, baseline.predict(X_test))"
   ]
  },
  {
   "cell_type": "code",
   "execution_count": 6,
   "metadata": {
    "collapsed": false
   },
   "outputs": [],
   "source": [
    "estimator = KNeighborsClassifier(weights='distance')"
   ]
  },
  {
   "cell_type": "code",
   "execution_count": 7,
   "metadata": {
    "collapsed": false
   },
   "outputs": [],
   "source": [
    "def update_Q_min_index(estimator, Q_min, Q_min_set, Q_min_index, feature_set, X_train, Y_train, X_test, Y_test, update_equal=False):\n",
    "    feature_set_size = len(feature_set)\n",
    "    estimator.fit(X_train[:, feature_set], Y_train)\n",
    "    error = 1 - accuracy_score(Y_test, estimator.predict(X_test[:, feature_set]))\n",
    "    if error < Q_min[feature_set_size]:\n",
    "        Q_min_set[feature_set_size] = feature_set\n",
    "        Q_min[feature_set_size] = error\n",
    "        if ((Q_min[feature_set_size] < Q_min[Q_min_index])\n",
    "                or (update_equal and Q_min[feature_set_size] == Q_min[Q_min_index])):\n",
    "            Q_min_index = feature_set_size\n",
    "    return Q_min_index"
   ]
  },
  {
   "cell_type": "markdown",
   "metadata": {},
   "source": [
    "#### Add One"
   ]
  },
  {
   "cell_type": "code",
   "execution_count": 8,
   "metadata": {
    "collapsed": false
   },
   "outputs": [],
   "source": [
    "def add_one(estimator, feature_set, X_train, Y_train, X_test, Y_test, look_forward=10, start_feature_set=[]):\n",
    "    Q_min = {0: float('+inf')}\n",
    "    Q_min_set = {0: []}\n",
    "    Q_min_index = 0\n",
    "    if start_feature_set:\n",
    "        estimator.fit(X_train[:, feature_set], Y_train)\n",
    "        error = 1 - accuracy_score(Y_test, estimator.predict(X_test[:, feature_set]))\n",
    "        Q_min = {len(start_feature_set) : error}\n",
    "        Q_min_set = {len(start_feature_set) : start_feature_set}\n",
    "        Q_min_index = len(start_feature_set)\n",
    "    for feature_set_size in range(len(start_feature_set) + 1, len(feature_set) + 1):\n",
    "        Q_min[feature_set_size] = float('+inf')\n",
    "        unused_features = set(feature_set).difference(set(Q_min_set[feature_set_size - 1]))\n",
    "        unused_features = list(unused_features)\n",
    "        #shuffle(unused_features)\n",
    "        for feature in unused_features:\n",
    "            new_feature_set = Q_min_set[feature_set_size - 1] + [feature]\n",
    "            Q_min_index = update_Q_min_index(\n",
    "                estimator, Q_min, Q_min_set, Q_min_index, new_feature_set,\n",
    "                X_train, Y_train, X_test, Y_test, update_equal=False,\n",
    "            )\n",
    "        print 'Q_min: %.4lf, set_size: %d, added: %s' % (Q_min[feature_set_size], feature_set_size, Q_min_set[feature_set_size][-1])\n",
    "        if Q_min_index + look_forward <= feature_set_size:\n",
    "            break\n",
    "    return Q_min_set[Q_min_index]"
   ]
  },
  {
   "cell_type": "code",
   "execution_count": 9,
   "metadata": {
    "collapsed": false
   },
   "outputs": [
    {
     "name": "stdout",
     "output_type": "stream",
     "text": [
      "Q_min: 0.8200, set_size: 1, added: 351\n",
      "Q_min: 0.7300, set_size: 2, added: 461\n",
      "Q_min: 0.6720, set_size: 3, added: 327\n",
      "Q_min: 0.6200, set_size: 4, added: 381\n",
      "Q_min: 0.5660, set_size: 5, added: 406\n",
      "Q_min: 0.5000, set_size: 6, added: 514\n",
      "Q_min: 0.4300, set_size: 7, added: 152\n",
      "Q_min: 0.4160, set_size: 8, added: 430\n",
      "Q_min: 0.3840, set_size: 9, added: 211\n",
      "Q_min: 0.3540, set_size: 10, added: 568\n",
      "Q_min: 0.3320, set_size: 11, added: 324\n",
      "Q_min: 0.3160, set_size: 12, added: 289\n",
      "Q_min: 0.3060, set_size: 13, added: 127\n",
      "Q_min: 0.2980, set_size: 14, added: 185\n",
      "Q_min: 0.2880, set_size: 15, added: 247\n",
      "Q_min: 0.2820, set_size: 16, added: 200\n",
      "Q_min: 0.2780, set_size: 17, added: 276\n",
      "Q_min: 0.2740, set_size: 18, added: 690\n",
      "Q_min: 0.2720, set_size: 19, added: 417\n",
      "Q_min: 0.2700, set_size: 20, added: 677\n",
      "Q_min: 0.2680, set_size: 21, added: 742\n",
      "Q_min: 0.2660, set_size: 22, added: 69\n",
      "Q_min: 0.2660, set_size: 23, added: 0\n",
      "Q_min: 0.2660, set_size: 24, added: 1\n",
      "Q_min: 0.2660, set_size: 25, added: 2\n",
      "Q_min: 0.2660, set_size: 26, added: 3\n",
      "CPU times: user 2min 21s, sys: 107 ms, total: 2min 21s\n",
      "Wall time: 2min 21s\n",
      "CPU times: user 10.7 ms, sys: 5 µs, total: 10.7 ms\n",
      "Wall time: 10.7 ms\n"
     ]
    },
    {
     "data": {
      "text/plain": [
       "0.73399999999999999"
      ]
     },
     "execution_count": 9,
     "metadata": {},
     "output_type": "execute_result"
    }
   ],
   "source": [
    "%time feature_set = add_one(estimator, range(X_train.shape[1]), X_train, Y_train, X_test, Y_test, look_forward=4)\n",
    "%time accuracy_score(Y_test, estimator.fit(X_train[:, feature_set], Y_train).predict(X_test[:, feature_set]))"
   ]
  },
  {
   "cell_type": "markdown",
   "metadata": {},
   "source": [
    "#### Del One"
   ]
  },
  {
   "cell_type": "code",
   "execution_count": 28,
   "metadata": {
    "collapsed": false
   },
   "outputs": [],
   "source": [
    "def del_one(estimator, feature_set, X_train, Y_train, X_test, Y_test, look_forward=10):\n",
    "    estimator.fit(X_train[:, feature_set], Y_train)\n",
    "    error = 1 - accuracy_score(Y_test, estimator.predict(X_test[:, feature_set]))\n",
    "    Q_min = {len(feature_set): error}\n",
    "    Q_min_set = {len(feature_set): deepcopy(feature_set)}\n",
    "    Q_min_index = len(feature_set)\n",
    "    for feature_set_size in range(len(feature_set) - 1, 0, -1):\n",
    "        Q_min[feature_set_size] = float('+inf')\n",
    "        features = copy(Q_min_set[feature_set_size + 1])\n",
    "        # shuffle(features)\n",
    "        for feature in features:\n",
    "            new_feature_set = deepcopy(Q_min_set[feature_set_size + 1])\n",
    "            new_feature_set.remove(feature)\n",
    "            Q_min_index = update_Q_min_index(\n",
    "                estimator, Q_min, Q_min_set, Q_min_index, new_feature_set,\n",
    "                X_train, Y_train, X_test, Y_test, update_equal=True,\n",
    "            )\n",
    "        print 'Q_min: %.4lf, set_size: %d, deleted: %s' % (Q_min[feature_set_size], feature_set_size,\n",
    "            set(Q_min_set[feature_set_size + 1]).difference(set(Q_min_set[feature_set_size])),\n",
    "        )\n",
    "        if feature_set_size + look_forward <= Q_min_index:\n",
    "            break\n",
    "    return Q_min_set[Q_min_index]\n",
    "    # return Q_min_set[feature_set_size]"
   ]
  },
  {
   "cell_type": "code",
   "execution_count": 52,
   "metadata": {
    "collapsed": false
   },
   "outputs": [],
   "source": [
    "#%time feature_set = del_one(estimator, range(X_train.shape[1]), X_train, Y_train, X_test, Y_test, look_forward=4)\n",
    "#%time accuracy_score(Y_test, estimator.fit(X_train[:, feature_set], Y_train).predict(X_test[:, feature_set]))"
   ]
  },
  {
   "cell_type": "markdown",
   "metadata": {},
   "source": [
    "#### AddDel"
   ]
  },
  {
   "cell_type": "code",
   "execution_count": 26,
   "metadata": {
    "collapsed": false
   },
   "outputs": [],
   "source": [
    "def add_del(estimator, feature_set, X_train, Y_train, X_test, Y_test, look_forward=10):\n",
    "    Q_min = None\n",
    "    Q_min_current = float('+inf')\n",
    "    start_feature_set = []\n",
    "    \n",
    "    bad_iteration_count = 2\n",
    "    while (Q_min is None) or (Q_min_current < Q_min or bad_iteration_count):\n",
    "        Q_min = Q_min_current\n",
    "        start_feature_set = add_one(estimator, feature_set, X_train, Y_train, X_test, Y_test, look_forward, start_feature_set=start_feature_set)\n",
    "        start_feature_set = del_one(estimator, start_feature_set, X_train, Y_train, X_test, Y_test, look_forward)\n",
    "        estimator.fit(X_train[:, start_feature_set], Y_train)\n",
    "        Q_min_current = 1 - accuracy_score(Y_test, estimator.predict(X_test[:, start_feature_set]))\n",
    "        \n",
    "        if Q_min_current > Q_min:\n",
    "            bad_iteration_count -= 1\n",
    "        print 'Q_min: %.4lf, set_size: %d' % (Q_min_current, len(start_feature_set))\n",
    "    return start_feature_set"
   ]
  },
  {
   "cell_type": "code",
   "execution_count": 29,
   "metadata": {
    "collapsed": false
   },
   "outputs": [
    {
     "name": "stdout",
     "output_type": "stream",
     "text": [
      "Q_min: 0.8200, set_size: 1, added: 351\n",
      "Q_min: 0.7300, set_size: 2, added: 461\n",
      "Q_min: 0.6720, set_size: 3, added: 327\n",
      "Q_min: 0.6200, set_size: 4, added: 381\n",
      "Q_min: 0.5660, set_size: 5, added: 406\n",
      "Q_min: 0.5000, set_size: 6, added: 514\n",
      "Q_min: 0.4300, set_size: 7, added: 152\n",
      "Q_min: 0.4160, set_size: 8, added: 430\n",
      "Q_min: 0.3840, set_size: 9, added: 211\n",
      "Q_min: 0.3540, set_size: 10, added: 568\n",
      "Q_min: 0.3320, set_size: 11, added: 324\n",
      "Q_min: 0.3160, set_size: 12, added: 289\n",
      "Q_min: 0.3060, set_size: 13, added: 127\n",
      "Q_min: 0.2980, set_size: 14, added: 185\n",
      "Q_min: 0.2880, set_size: 15, added: 247\n",
      "Q_min: 0.2820, set_size: 16, added: 200\n",
      "Q_min: 0.2780, set_size: 17, added: 276\n",
      "Q_min: 0.2740, set_size: 18, added: 690\n",
      "Q_min: 0.2720, set_size: 19, added: 417\n",
      "Q_min: 0.2700, set_size: 20, added: 677\n",
      "Q_min: 0.2680, set_size: 21, added: 742\n",
      "Q_min: 0.2660, set_size: 22, added: 69\n",
      "Q_min: 0.2660, set_size: 23, added: 0\n",
      "Q_min: 0.2660, set_size: 24, added: 1\n",
      "Q_min: 0.2660, set_size: 25, added: 2\n",
      "Q_min: 0.2660, set_size: 26, added: 3\n",
      "Q_min: 0.2680, set_size: 21, deleted: set([417])\n",
      "Q_min: 0.2700, set_size: 20, deleted: set([677])\n",
      "Q_min: 0.2720, set_size: 19, deleted: set([69])\n",
      "Q_min: 0.2740, set_size: 18, deleted: set([742])\n",
      "Q_min: 0.2740, set_size: 18\n",
      "Q_min: 0.2720, set_size: 19, added: 417\n",
      "Q_min: 0.2700, set_size: 20, added: 677\n",
      "Q_min: 0.2680, set_size: 21, added: 742\n",
      "Q_min: 0.2660, set_size: 22, added: 69\n",
      "Q_min: 0.2780, set_size: 17, deleted: set([276])\n",
      "Q_min: 0.2820, set_size: 16, deleted: set([690])\n",
      "Q_min: 0.2880, set_size: 15, deleted: set([200])\n",
      "Q_min: 0.2980, set_size: 14, deleted: set([247])\n",
      "Q_min: 0.2980, set_size: 14\n",
      "Q_min: 0.2880, set_size: 15, added: 247\n",
      "Q_min: 0.2820, set_size: 16, added: 200\n",
      "Q_min: 0.2780, set_size: 17, added: 276\n",
      "Q_min: 0.2740, set_size: 18, added: 690\n",
      "Q_min: 0.3060, set_size: 13, deleted: set([185])\n",
      "Q_min: 0.3160, set_size: 12, deleted: set([127])\n",
      "Q_min: 0.3320, set_size: 11, deleted: set([289])\n",
      "Q_min: 0.3540, set_size: 10, deleted: set([324])\n",
      "Q_min: 0.3540, set_size: 10\n",
      "CPU times: user 3min 20s, sys: 128 ms, total: 3min 20s\n",
      "Wall time: 3min 20s\n",
      "CPU times: user 5.73 ms, sys: 3 µs, total: 5.73 ms\n",
      "Wall time: 5.74 ms\n"
     ]
    },
    {
     "data": {
      "text/plain": [
       "0.64600000000000002"
      ]
     },
     "execution_count": 29,
     "metadata": {},
     "output_type": "execute_result"
    }
   ],
   "source": [
    "%time feature_set = add_del(estimator, range(X_train.shape[1]), X_train, Y_train, X_test, Y_test, look_forward=4)\n",
    "%time accuracy_score(Y_test, estimator.fit(X_train[:, feature_set], Y_train).predict(X_test[:, feature_set]))"
   ]
  },
  {
   "cell_type": "code",
   "execution_count": 30,
   "metadata": {
    "collapsed": false
   },
   "outputs": [
    {
     "name": "stdout",
     "output_type": "stream",
     "text": [
      "10\n"
     ]
    },
    {
     "data": {
      "text/plain": [
       "<matplotlib.image.AxesImage at 0x11609ced0>"
      ]
     },
     "execution_count": 30,
     "metadata": {},
     "output_type": "execute_result"
    },
    {
     "data": {
      "image/png": "[encoded data removed]",
      "text/plain": [
       "<matplotlib.figure.Figure at 0x11a32b7d0>"
      ]
     },
     "metadata": {},
     "output_type": "display_data"
    }
   ],
   "source": [
    "# TODO : plots\n",
    "print len(feature_set)\n",
    "to_plot = np.array([0] * X_train.shape[1])\n",
    "to_plot[feature_set] = 255\n",
    "pylab.imshow(to_plot.reshape(28, 28), cmap=\"summer\")"
   ]
  },
  {
   "cell_type": "code",
   "execution_count": 31,
   "metadata": {
    "collapsed": false
   },
   "outputs": [
    {
     "data": {
      "text/plain": [
       "0.47999999999999998"
      ]
     },
     "execution_count": 31,
     "metadata": {},
     "output_type": "execute_result"
    },
    {
     "data": {
      "image/png": "[encoded data removed]",
      "text/plain": [
       "<matplotlib.figure.Figure at 0x119dc03d0>"
      ]
     },
     "metadata": {},
     "output_type": "display_data"
    }
   ],
   "source": [
    "df = pd.DataFrame({\n",
    "    'var' : pd.DataFrame(X_train).var(),\n",
    "    'index' : range(X_train.shape[1]),\n",
    "}).sort('var', ascending=False)\n",
    "to_plot = np.array([0] * X_train.shape[1])\n",
    "var_feature_set = df[:len(feature_set)]['index']\n",
    "to_plot[var_feature_set] = 255\n",
    "pylab.imshow(to_plot.reshape(28, 28), cmap='winter')\n",
    "accuracy_score(Y_test, estimator.fit(X_train[:, var_feature_set], Y_train).predict(X_test[:, var_feature_set]))"
   ]
  },
  {
   "cell_type": "code",
   "execution_count": 32,
   "metadata": {
    "collapsed": false
   },
   "outputs": [
    {
     "data": {
      "text/plain": [
       "0.32000000000000001"
      ]
     },
     "execution_count": 32,
     "metadata": {},
     "output_type": "execute_result"
    },
    {
     "data": {
      "image/png": "[encoded data removed]",
      "text/plain": [
       "<matplotlib.figure.Figure at 0x1160b0310>"
      ]
     },
     "metadata": {},
     "output_type": "display_data"
    }
   ],
   "source": [
    "indices = range(X_train.shape[1])\n",
    "shuffle(indices)\n",
    "indices = indices[:len(feature_set)]\n",
    "to_plot = np.array([0] * X_train.shape[1])\n",
    "to_plot[indices] = 255\n",
    "pylab.imshow(to_plot.reshape(28, 28))\n",
    "accuracy_score(Y_test, estimator.fit(X_train[:, indices], Y_train).predict(X_test[:, indices]))"
   ]
  },
  {
   "cell_type": "markdown",
   "metadata": {},
   "source": [
    "#### Group method of data handling (GMDH)"
   ]
  },
  {
   "cell_type": "code",
   "execution_count": null,
   "metadata": {
    "collapsed": false
   },
   "outputs": [],
   "source": [
    "\"\"\"\n",
    "Something between AddOne and BruteForce (BFS)\n",
    "\n",
    "Algorithm\n",
    "1. R_1 = {{f_1}, ..., {f_n}}\n",
    "2. for j in 1..n:\n",
    "3.     R_j = sorted(R_j, key=Q)[:B]\n",
    "4.     j* = argmin_{s <= j} Q(F_s^1)\n",
    "5.     if j - j* >= d:\n",
    "           return F_{j*}^1\n",
    "6.     R_{j + 1} = { F_j + {f} | F_j \\in R_j, f \\in F\\F_j }\n",
    "\n",
    "Degrees of freedom:\n",
    "* B (breadth of search)\n",
    "* Q (criteria)\n",
    "\n",
    "Duplicate Problem ?\n",
    "Adaptation:\n",
    "    I_j(f) = \\sum_{b = 1}^{B_j} [f \\in F_j^b] (informativeness)\n",
    "\"\"\""
   ]
  },
  {
   "cell_type": "markdown",
   "metadata": {},
   "source": [
    "#### Genetic Algorithm (GA)"
   ]
  },
  {
   "cell_type": "code",
   "execution_count": null,
   "metadata": {
    "collapsed": false
   },
   "outputs": [],
   "source": [
    "\"\"\"\n",
    "Notation:\n",
    "* S \\in F - individual (индивид). Genetic representation (хромосома): array of bits betta = [b_j = f_j \\in S]\n",
    "* Operations:\n",
    "    * Crossover (скрещивание)\n",
    "        betta = alpha x gamma\n",
    "        b_j = a_j with prob 1/2 and g_j with prob 1/2\n",
    "    * Mutation (мутация)\n",
    "        betta = ~alpha\n",
    "        p_m = mutation probability\n",
    "        b_j = (1 - a_j) with prob p_m, a_j otherwise\n",
    "\n",
    "\n",
    "Algorithm\n",
    "1. R_1 = {{f_1}, ..., {f_n}}\n",
    "2. for j in 1..n:\n",
    "3.     R_j = sorted(R_j, key=Q)[:B]\n",
    "4.     j* = argmin_{s <= j} Q(F_s^1)\n",
    "5.     if j - j* >= d:\n",
    "           return F_{j*}^1\n",
    "6.     R_{j + 1} = { ~(F' x F'') | F', F'' \\in R_j} U R_j\n",
    "\n",
    "Degrees of freedom:\n",
    "* B (breadth of search)\n",
    "* Q (criteria)\n",
    "* Adaptation:\n",
    "    * Per feature mutation probability (informativeness)\n",
    "    * Mutation probability increases over time\n",
    "    * Elitism (элитаризм): best individuals from previous epoch\n",
    "\n",
    "Slow Convergence Problem!\n",
    "\"\"\""
   ]
  },
  {
   "cell_type": "markdown",
   "metadata": {},
   "source": [
    "#### Stochastic Local Search (SLS) with adaptation"
   ]
  },
  {
   "cell_type": "code",
   "execution_count": null,
   "metadata": {
    "collapsed": false
   },
   "outputs": [],
   "source": [
    "\"\"\"\n",
    "GA with only mutations --> Stochastic Search (T mutations over individual)\n",
    "B=1 --> Stochastic Local Search\n",
    "\n",
    "Adaptation (idea): to increase probability of good features and to decrease probability of bad ones.\n",
    "\n",
    "Algorithm:\n",
    "1. p_1 = .. = p_n = 1 / n (feature uniform distribution)\n",
    "2. for j in j_0 .. n: (feature set size)\n",
    "3.     for t in 1..T: (iteration count)\n",
    "4.         F_j = generate r feature sets of size j based on (p_1,...,p_n) distribution\n",
    "5.         F_worse = argmax_{S \\in F_j} Q(S) (worse)\n",
    "           F_best = argmax_{S \\in F_j} Q(S) (best)\n",
    "6.         H = 0 (delta)\n",
    "           for f_i in F_worse:\n",
    "               p_delta = min(p_i, h)\n",
    "               p_i -= p_delta\n",
    "               H += p_delta\n",
    "           for f_i in F_best:\n",
    "               p_i += H / j\n",
    "7.      j* = argmin_{s <= j} Q(F_s)\n",
    "8.      if j - j* >= d:\n",
    "            return F_j*\n",
    "\n",
    "Degrees of freedom:\n",
    "* r (level of significance 0.05 -> 39, 0.1 -> 19. Analogy with ShuffleSplit)\n",
    "* T (iteration count: 10-50)\n",
    "* h (degree of adaptation: try to skip zero probabilities, e.g. (1 - p_min) / rn)\n",
    "\n",
    "Pro:\n",
    "* Should be better than AddDel (in quality)\n",
    "* Convergence speeds up with adaptation\n",
    "\"\"\""
   ]
  },
  {
   "cell_type": "markdown",
   "metadata": {},
   "source": [
    "## Discretization"
   ]
  },
  {
   "cell_type": "raw",
   "metadata": {},
   "source": [
    "continuous (numerical) -> binary/categorical\n",
    "* Bruteforce\n",
    "* Zone"
   ]
  }
 ],
 "metadata": {
  "kernelspec": {
   "display_name": "Python 2",
   "language": "python",
   "name": "python2"
  },
  "language_info": {
   "codemirror_mode": {
    "name": "ipython",
    "version": 2
   },
   "file_extension": ".py",
   "mimetype": "text/x-python",
   "name": "python",
   "nbconvert_exporter": "python",
   "pygments_lexer": "ipython2",
   "version": "2.7.11"
  }
 },
 "nbformat": 4,
 "nbformat_minor": 0
}
